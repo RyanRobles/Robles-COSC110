{
  "nbformat": 4,
  "nbformat_minor": 0,
  "metadata": {
    "colab": {
      "provenance": [],
      "include_colab_link": true
    },
    "kernelspec": {
      "name": "python3",
      "display_name": "Python 3"
    },
    "language_info": {
      "name": "python"
    }
  },
  "cells": [
    {
      "cell_type": "markdown",
      "metadata": {
        "id": "view-in-github",
        "colab_type": "text"
      },
      "source": [
        "<a href=\"https://colab.research.google.com/github/RyanRobles/Robles-COSC110/blob/main/lab3_intro_to_sympy_robles.ipynb\" target=\"_parent\"><img src=\"https://colab.research.google.com/assets/colab-badge.svg\" alt=\"Open In Colab\"/></a>"
      ]
    },
    {
      "cell_type": "markdown",
      "source": [
        "## Laboratory Activity #3: Introduction to SymPy\n",
        "\n",
        "###Objectives:\n",
        "- Apply basic symbolic calculations using SymPy"
      ],
      "metadata": {
        "id": "ry6k4qR8H7Bq"
      }
    },
    {
      "cell_type": "markdown",
      "source": [
        "#### Task # 1: Include all necessary sympy modules\n",
        "\n",
        "\n"
      ],
      "metadata": {
        "id": "G_Ua0LKbIPfK"
      }
    },
    {
      "cell_type": "code",
      "execution_count": 1,
      "metadata": {
        "id": "DPFz-qLYHiFJ"
      },
      "outputs": [],
      "source": [
        "# Import the relevant sympy modules\n",
        "import sympy as sym\n",
        "from sympy import symbols, factor, expand, Rational, sqrt, fraction, simplify\n"
      ]
    },
    {
      "cell_type": "markdown",
      "source": [
        "#### Task # 2: Basic calculation\n",
        "Solve for the following:\n",
        "\n",
        "- $\\frac{5}{3} + \\frac{\\sqrt{10}}{2}$\n",
        "- $\\sqrt{50} \\times \\sqrt{\\frac{5}{9}}$"
      ],
      "metadata": {
        "id": "3i4pd__LIl1X"
      }
    },
    {
      "cell_type": "code",
      "source": [
        "# Answer for the first expression here\n",
        "expr = Rational(5,3) + 10 * sqrt(2)\n",
        "print (expr)"
      ],
      "metadata": {
        "id": "Nk9U7XU8RhEH",
        "colab": {
          "base_uri": "https://localhost:8080/"
        },
        "outputId": "235f5168-7181-4a3e-908a-3c5e82b569df"
      },
      "execution_count": 3,
      "outputs": [
        {
          "output_type": "stream",
          "name": "stdout",
          "text": [
            "5/3 + 10*sqrt(2)\n"
          ]
        }
      ]
    },
    {
      "cell_type": "code",
      "source": [
        "# Answer for the second expression here\n",
        "expr = sqrt(50) * sqrt(5/9)\n",
        "print (expr)"
      ],
      "metadata": {
        "id": "6baME6J6Rgru",
        "colab": {
          "base_uri": "https://localhost:8080/"
        },
        "outputId": "1fd9c7e3-9517-4bd7-bc9e-93a1dd310588"
      },
      "execution_count": 5,
      "outputs": [
        {
          "output_type": "stream",
          "name": "stdout",
          "text": [
            "3.72677996249965*sqrt(2)\n"
          ]
        }
      ]
    },
    {
      "cell_type": "markdown",
      "source": [
        "#### Task # 3: Symbols\n",
        "Create the equation for the following using `Symbols`:\n",
        "- $2x+3y=12$\n",
        "- $x−y=4$"
      ],
      "metadata": {
        "id": "UH2m4ur7NERn"
      }
    },
    {
      "cell_type": "code",
      "source": [
        "# Answer for the first equation here\n",
        "x, y = symbols('x y')\n",
        "expr = 2*x + 3*y, 12\n",
        "print(expr)"
      ],
      "metadata": {
        "id": "4RUw45azRejM",
        "colab": {
          "base_uri": "https://localhost:8080/"
        },
        "outputId": "b9bd786f-ef43-4b36-c60a-545be35840e0"
      },
      "execution_count": 8,
      "outputs": [
        {
          "output_type": "stream",
          "name": "stdout",
          "text": [
            "(2*x + 3*y, 12)\n"
          ]
        }
      ]
    },
    {
      "cell_type": "code",
      "source": [
        "# Answer for the second equation here\n",
        "x,y = symbols('x y')\n",
        "expr = x-y,4\n",
        "print(expr)"
      ],
      "metadata": {
        "id": "nKlN5AeURwI6",
        "colab": {
          "base_uri": "https://localhost:8080/"
        },
        "outputId": "717c41d0-6f25-42ec-f46b-899f1532c5a0"
      },
      "execution_count": 10,
      "outputs": [
        {
          "output_type": "stream",
          "name": "stdout",
          "text": [
            "(x - y, 4)\n"
          ]
        }
      ]
    },
    {
      "cell_type": "markdown",
      "source": [
        "#### Task # 3: Simplification\n",
        "Simplify the following equations using the `simplify` method\n",
        "\n",
        "- $\\frac{x^2 + 2x + 1}{x + 1}$\n",
        "\n",
        "- $\\frac{1 - \\frac{1}{1 + \\frac{1}{x}}}{1 + \\frac{1}{x}}\n",
        "$"
      ],
      "metadata": {
        "id": "IS8vTb7FPDbQ"
      }
    },
    {
      "cell_type": "code",
      "source": [
        "# Simplify the first equation here\n",
        "expr = (x**2 + 2*x + 1) / (x + 1)\n",
        "print(simplify(expr))"
      ],
      "metadata": {
        "id": "38CFQlfxR0TV",
        "colab": {
          "base_uri": "https://localhost:8080/"
        },
        "outputId": "72492436-3dc4-49b1-9063-82ca64204b38"
      },
      "execution_count": 11,
      "outputs": [
        {
          "output_type": "stream",
          "name": "stdout",
          "text": [
            "x + 1\n"
          ]
        }
      ]
    },
    {
      "cell_type": "code",
      "source": [
        "# Simplify the second equation here\n",
        "expr = (1 - 1/(1 + 1/x))/(1 + 1/x)\n",
        "print(simplify(expr))"
      ],
      "metadata": {
        "id": "fSi0XQcWR2uo",
        "colab": {
          "base_uri": "https://localhost:8080/"
        },
        "outputId": "5c1bdd50-c35c-4dee-b3d8-58762832cd13"
      },
      "execution_count": 13,
      "outputs": [
        {
          "output_type": "stream",
          "name": "stdout",
          "text": [
            "x/(x + 1)**2\n"
          ]
        }
      ]
    },
    {
      "cell_type": "markdown",
      "source": [
        "### Task # 4: Expansion\n",
        "Expand the following expressions using the `expand` method\n",
        "- $(2x + 2)^2$\n",
        "- $(2x + y)(x - 2y)$\n"
      ],
      "metadata": {
        "id": "oXI_LJ-hRR_n"
      }
    },
    {
      "cell_type": "code",
      "source": [
        "# Expand the first equation here\n",
        "expr = (2*x + 2)**2\n",
        "print(expand(expr))"
      ],
      "metadata": {
        "id": "OwjWp39uS0Jb",
        "colab": {
          "base_uri": "https://localhost:8080/"
        },
        "outputId": "7c99c017-14e1-4fe1-b370-e1efc8639e5b"
      },
      "execution_count": 14,
      "outputs": [
        {
          "output_type": "stream",
          "name": "stdout",
          "text": [
            "4*x**2 + 8*x + 4\n"
          ]
        }
      ]
    },
    {
      "cell_type": "code",
      "source": [
        "# Expand the second equation here\n",
        "expr = (2*x + y) * (x - 2*y)\n",
        "print(expand(expr))"
      ],
      "metadata": {
        "id": "g-QEmoMCS6TH",
        "colab": {
          "base_uri": "https://localhost:8080/"
        },
        "outputId": "c667ce7e-2ab7-4a57-d7c0-2823bc0165d8"
      },
      "execution_count": 15,
      "outputs": [
        {
          "output_type": "stream",
          "name": "stdout",
          "text": [
            "2*x**2 - 3*x*y - 2*y**2\n"
          ]
        }
      ]
    }
  ]
}